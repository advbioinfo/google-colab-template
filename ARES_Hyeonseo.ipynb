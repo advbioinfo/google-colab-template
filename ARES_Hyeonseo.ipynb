{
  "nbformat": 4,
  "nbformat_minor": 0,
  "metadata": {
    "colab": {
      "name": "ARES.ipynb",
      "provenance": [],
      "collapsed_sections": []
    },
    "kernelspec": {
      "name": "python3",
      "display_name": "Python 3"
    },
    "language_info": {
      "name": "python"
    },
    "accelerator": "GPU"
  },
  "cells": [
    {
      "cell_type": "markdown",
      "metadata": {
        "id": "GA19OziJ4u4h"
      },
      "source": [
        "Code for ARES network from \"Geometric Deep Learning of RNA Structure.\""
      ]
    },
    {
      "cell_type": "markdown",
      "metadata": {
        "id": "O0T181Fd4zdj"
      },
      "source": [
        "## Installation\n",
        "\n",
        "### Install ARES"
      ]
    },
    {
      "cell_type": "code",
      "metadata": {
        "id": "gVztphTu-Oo2"
      },
      "source": [
        "%%bash\n",
        "mkdir /ares\n",
        "cd /ares\n",
        "wget https://zenodo.org/record/5088971/files/ares_release.zip\n",
        "unzip ares_release.zip\n",
        "cd ./ares_release"
      ],
      "execution_count": null,
      "outputs": []
    },
    {
      "cell_type": "markdown",
      "metadata": {
        "id": "XjnoCzSUIUkf"
      },
      "source": [
        "### Install Dependencies"
      ]
    },
    {
      "cell_type": "code",
      "metadata": {
        "id": "-9uJ31awIa6K"
      },
      "source": [
        "%%bash\n",
        "TORCH=\"1.5.0\"\n",
        "TORCH_VISION=\"0.6.0\"\n",
        "CUDA=\"+cu101\" \n",
        "pip install torch==${TORCH}${CUDA} torchvision==${TORCH_VISION}${CUDA} -f https://download.pytorch.org/whl/torch_stable.html \n",
        "pip install torch-scatter -f https://pytorch-geometric.com/whl/torch-${TORCH}${CUDA}.html\n",
        "pip install torch-sparse -f https://pytorch-geometric.com/whl/torch-${TORCH}${CUDA}.html\n",
        "pip install torch-cluster -f https://pytorch-geometric.com/whl/torch-${TORCH}${CUDA}.html\n",
        "pip install torch-spline-conv -f https://pytorch-geometric.com/whl/torch-${TORCH}${CUDA}.html"
      ],
      "execution_count": null,
      "outputs": []
    },
    {
      "cell_type": "code",
      "metadata": {
        "id": "Tn_VqvccIeWS"
      },
      "source": [
        "%%bash\n",
        "pip install pytorch-lightning python-dotenv wandb atom3d==v0.2.4\n",
        "pip install git+https://github.com/drorlab/e3nn_ares.git@6682f60c2c4d99375cfa6321dfcdfa87f104cf8b#egg=e3nn"
      ],
      "execution_count": null,
      "outputs": []
    },
    {
      "cell_type": "markdown",
      "metadata": {
        "id": "jn-FHA-i7QmU"
      },
      "source": [
        "## Training\n",
        "### * Use With GPU Enabled"
      ]
    },
    {
      "cell_type": "code",
      "metadata": {
        "id": "Sg0XxVq7JsUD"
      },
      "source": [
        "%%bash\n",
        "python -m ares.train data/lmdbs/train data/lmdbs/val -f lmdb --batch_size=8 --accumulate_grad_batches=2 --learning_rate=0.0005 --max_epochs=5  --gpus=1 --num_workers=8"
      ],
      "execution_count": null,
      "outputs": []
    },
    {
      "cell_type": "markdown",
      "metadata": {
        "id": "q9e3bH8uJ4_d"
      },
      "source": [
        "##Inference\n",
        "###* Use with GPU Enabled\n"
      ]
    },
    {
      "cell_type": "code",
      "metadata": {
        "id": "oOM1Cw9xJ8DT"
      },
      "source": [
        "%%bash\n",
        "python -m ares.predict data/pdbs data/sample_weights.ckpt output.csv -f pdb --nolabels --gpus=1 --num_workers=8"
      ],
      "execution_count": null,
      "outputs": []
    },
    {
      "cell_type": "markdown",
      "metadata": {
        "id": "1hExNm64KV1a"
      },
      "source": [
        "##Check Output"
      ]
    },
    {
      "cell_type": "code",
      "metadata": {
        "id": "Sbpgtg9ZKVO0"
      },
      "source": [
        "%%bash\n",
        "head output.csv"
      ],
      "execution_count": null,
      "outputs": []
    }
  ]
}